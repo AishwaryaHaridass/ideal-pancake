{
  "nbformat": 4,
  "nbformat_minor": 0,
  "metadata": {
    "kernelspec": {
      "display_name": "Python 3",
      "language": "python",
      "name": "python3"
    },
    "colab": {
      "name": "HyperParameter Tuning in CNN using MNIST dataset.ipynb",
      "provenance": []
    },
    "accelerator": "GPU"
  },
  "cells": [
    {
      "cell_type": "markdown",
      "metadata": {
        "id": "VrEr3SWWfZV7"
      },
      "source": [
        "### Install Keras Tuner"
      ]
    },
    {
      "cell_type": "code",
      "metadata": {
        "colab": {
          "base_uri": "https://localhost:8080/"
        },
        "id": "5_1qAKyvfZWB",
        "outputId": "d035d1f3-c432-49e6-925c-d016fe0cd049"
      },
      "source": [
        "pip install keras-tuner"
      ],
      "execution_count": null,
      "outputs": [
        {
          "output_type": "stream",
          "text": [
            "Collecting keras-tuner\n",
            "\u001b[?25l  Downloading https://files.pythonhosted.org/packages/20/ec/1ef246787174b1e2bb591c95f29d3c1310070cad877824f907faba3dade9/keras-tuner-1.0.2.tar.gz (62kB)\n",
            "\r\u001b[K     |█████▏                          | 10kB 19.7MB/s eta 0:00:01\r\u001b[K     |██████████▍                     | 20kB 26.2MB/s eta 0:00:01\r\u001b[K     |███████████████▋                | 30kB 22.5MB/s eta 0:00:01\r\u001b[K     |████████████████████▉           | 40kB 26.1MB/s eta 0:00:01\r\u001b[K     |██████████████████████████      | 51kB 25.8MB/s eta 0:00:01\r\u001b[K     |███████████████████████████████▎| 61kB 28.5MB/s eta 0:00:01\r\u001b[K     |████████████████████████████████| 71kB 8.1MB/s \n",
            "\u001b[?25hRequirement already satisfied: packaging in /usr/local/lib/python3.7/dist-packages (from keras-tuner) (20.9)\n",
            "Requirement already satisfied: future in /usr/local/lib/python3.7/dist-packages (from keras-tuner) (0.16.0)\n",
            "Requirement already satisfied: numpy in /usr/local/lib/python3.7/dist-packages (from keras-tuner) (1.19.5)\n",
            "Requirement already satisfied: tabulate in /usr/local/lib/python3.7/dist-packages (from keras-tuner) (0.8.9)\n",
            "Collecting terminaltables\n",
            "  Downloading https://files.pythonhosted.org/packages/9b/c4/4a21174f32f8a7e1104798c445dacdc1d4df86f2f26722767034e4de4bff/terminaltables-3.1.0.tar.gz\n",
            "Collecting colorama\n",
            "  Downloading https://files.pythonhosted.org/packages/44/98/5b86278fbbf250d239ae0ecb724f8572af1c91f4a11edf4d36a206189440/colorama-0.4.4-py2.py3-none-any.whl\n",
            "Requirement already satisfied: tqdm in /usr/local/lib/python3.7/dist-packages (from keras-tuner) (4.41.1)\n",
            "Requirement already satisfied: requests in /usr/local/lib/python3.7/dist-packages (from keras-tuner) (2.23.0)\n",
            "Requirement already satisfied: scipy in /usr/local/lib/python3.7/dist-packages (from keras-tuner) (1.4.1)\n",
            "Requirement already satisfied: scikit-learn in /usr/local/lib/python3.7/dist-packages (from keras-tuner) (0.22.2.post1)\n",
            "Requirement already satisfied: pyparsing>=2.0.2 in /usr/local/lib/python3.7/dist-packages (from packaging->keras-tuner) (2.4.7)\n",
            "Requirement already satisfied: urllib3!=1.25.0,!=1.25.1,<1.26,>=1.21.1 in /usr/local/lib/python3.7/dist-packages (from requests->keras-tuner) (1.24.3)\n",
            "Requirement already satisfied: chardet<4,>=3.0.2 in /usr/local/lib/python3.7/dist-packages (from requests->keras-tuner) (3.0.4)\n",
            "Requirement already satisfied: certifi>=2017.4.17 in /usr/local/lib/python3.7/dist-packages (from requests->keras-tuner) (2020.12.5)\n",
            "Requirement already satisfied: idna<3,>=2.5 in /usr/local/lib/python3.7/dist-packages (from requests->keras-tuner) (2.10)\n",
            "Requirement already satisfied: joblib>=0.11 in /usr/local/lib/python3.7/dist-packages (from scikit-learn->keras-tuner) (1.0.1)\n",
            "Building wheels for collected packages: keras-tuner, terminaltables\n",
            "  Building wheel for keras-tuner (setup.py) ... \u001b[?25l\u001b[?25hdone\n",
            "  Created wheel for keras-tuner: filename=keras_tuner-1.0.2-cp37-none-any.whl size=78938 sha256=6109b5da63f37ccebf76e8dea2659c611b99fa0e693f3746373a42e82d3be0e0\n",
            "  Stored in directory: /root/.cache/pip/wheels/bb/a1/8a/7c3de0efb3707a1701b36ebbfdbc4e67aedf6d4943a1f463d6\n",
            "  Building wheel for terminaltables (setup.py) ... \u001b[?25l\u001b[?25hdone\n",
            "  Created wheel for terminaltables: filename=terminaltables-3.1.0-cp37-none-any.whl size=15356 sha256=3b07bd67e9d20ce750b1390944c8a4e19311269612a94efdbc88fce16ea02b36\n",
            "  Stored in directory: /root/.cache/pip/wheels/30/6b/50/6c75775b681fb36cdfac7f19799888ef9d8813aff9e379663e\n",
            "Successfully built keras-tuner terminaltables\n",
            "Installing collected packages: terminaltables, colorama, keras-tuner\n",
            "Successfully installed colorama-0.4.4 keras-tuner-1.0.2 terminaltables-3.1.0\n"
          ],
          "name": "stdout"
        }
      ]
    },
    {
      "cell_type": "markdown",
      "metadata": {
        "id": "sVH38pdmfZWG"
      },
      "source": [
        "### Import required Libraries\n"
      ]
    },
    {
      "cell_type": "code",
      "metadata": {
        "colab": {
          "base_uri": "https://localhost:8080/"
        },
        "id": "rOqNQa0QfZWI",
        "outputId": "e4fa1580-7d34-4e5f-9e32-70de1a61653e"
      },
      "source": [
        "import tensorflow as tf\n",
        "from tensorflow import keras\n",
        "from tensorflow.keras.datasets import fashion_mnist\n",
        "from tensorflow.keras.layers import Conv2D, Dense, Dropout, Flatten, MaxPooling2D\n",
        "print(tf.__version__)"
      ],
      "execution_count": null,
      "outputs": [
        {
          "output_type": "stream",
          "text": [
            "2.4.1\n"
          ],
          "name": "stdout"
        }
      ]
    },
    {
      "cell_type": "markdown",
      "metadata": {
        "id": "au5KlYgXfZWK"
      },
      "source": [
        "### Load Data"
      ]
    },
    {
      "cell_type": "code",
      "metadata": {
        "colab": {
          "base_uri": "https://localhost:8080/"
        },
        "id": "aixW9KPifZWM",
        "outputId": "8ca7e6f6-6cdc-4fc4-a668-b5de13ce9da0"
      },
      "source": [
        "(train_images, train_labels),(test_images, test_labels)= fashion_mnist.load_data()"
      ],
      "execution_count": null,
      "outputs": [
        {
          "output_type": "stream",
          "text": [
            "Downloading data from https://storage.googleapis.com/tensorflow/tf-keras-datasets/train-labels-idx1-ubyte.gz\n",
            "32768/29515 [=================================] - 0s 0us/step\n",
            "Downloading data from https://storage.googleapis.com/tensorflow/tf-keras-datasets/train-images-idx3-ubyte.gz\n",
            "26427392/26421880 [==============================] - 0s 0us/step\n",
            "Downloading data from https://storage.googleapis.com/tensorflow/tf-keras-datasets/t10k-labels-idx1-ubyte.gz\n",
            "8192/5148 [===============================================] - 0s 0us/step\n",
            "Downloading data from https://storage.googleapis.com/tensorflow/tf-keras-datasets/t10k-images-idx3-ubyte.gz\n",
            "4423680/4422102 [==============================] - 0s 0us/step\n"
          ],
          "name": "stdout"
        }
      ]
    },
    {
      "cell_type": "code",
      "metadata": {
        "id": "VDk6SFqCfZWN"
      },
      "source": [
        "train_images= train_images/255.0\n",
        "test_images= test_images/255.0"
      ],
      "execution_count": null,
      "outputs": []
    },
    {
      "cell_type": "code",
      "metadata": {
        "id": "15omsIdrfZWO"
      },
      "source": [
        "train_images= train_images.reshape(len(train_images), 28, 28,1)\n",
        "test_images= test_images.reshape(len(test_images), 28, 28,1)"
      ],
      "execution_count": null,
      "outputs": []
    },
    {
      "cell_type": "code",
      "metadata": {
        "colab": {
          "base_uri": "https://localhost:8080/"
        },
        "id": "vGkNpujafZWQ",
        "outputId": "21fb77ee-9bf2-423f-e9ed-5bd6ea74a1bb"
      },
      "source": [
        "train_images.shape"
      ],
      "execution_count": null,
      "outputs": [
        {
          "output_type": "execute_result",
          "data": {
            "text/plain": [
              "(60000, 28, 28, 1)"
            ]
          },
          "metadata": {
            "tags": []
          },
          "execution_count": 7
        }
      ]
    },
    {
      "cell_type": "markdown",
      "metadata": {
        "id": "j26SRQDbfZWR"
      },
      "source": [
        "### Hyperparameter tuning\n",
        "\n",
        "To perform hyperparameter tuning, we need to define the search space, that is to say which hyperparameters need to be optimized and in what range. Here, for this relatively small model, there are already hyperparameters that can be tuned:\n",
        "1. Dropout rate\n",
        "2. Number of filters for the convolutional layers\n",
        "3. Number of units for the dense layer\n",
        "4. Corresponding activation function"
      ]
    },
    {
      "cell_type": "code",
      "metadata": {
        "id": "DD_t1iXkfZWT"
      },
      "source": [
        "def build_model(hp):\n",
        "    model= keras.Sequential()\n",
        "    model.add(\n",
        "        Conv2D(\n",
        "            filters=16,\n",
        "            kernel_size=3,\n",
        "            activation=\"relu\",\n",
        "            input_shape=(28,28,1),\n",
        "        )\n",
        "    )\n",
        "    model.add(Conv2D(filters=16, activation=\"relu\", kernel_size=3))\n",
        "    model.add(MaxPooling2D(pool_size=2))\n",
        "    model.add(\n",
        "        Dropout(\n",
        "            rate=hp.Float(\n",
        "                \"dropout_1\", min_value=0.0, max_value=0.5, default=0.25, step=0.05,\n",
        "            )\n",
        "        )\n",
        "    )\n",
        "    model.add(Conv2D(filters=32, kernel_size=3, activation=\"relu\"))\n",
        "    model.add(\n",
        "        Conv2D(\n",
        "            filters=hp.Choice(\"num_filters\", values=[32, 64], default=64,),\n",
        "            activation=\"relu\",\n",
        "            kernel_size=3,\n",
        "        )\n",
        "    )\n",
        "    model.add(MaxPooling2D(pool_size=2))\n",
        "    model.add(\n",
        "        Dropout(\n",
        "            rate=hp.Float(\n",
        "                \"dropout_2\", min_value=0.0, max_value=0.5, default=0.25, step=0.05,\n",
        "            )\n",
        "        )\n",
        "    )\n",
        "    model.add(Flatten())\n",
        "    model.add(\n",
        "        Dense(\n",
        "            units=hp.Int(\n",
        "                \"units\", min_value=32, max_value=512, step=32, default=128\n",
        "            ),\n",
        "            activation=hp.Choice(\n",
        "                \"dense_activation\",\n",
        "                values=[\"relu\", \"tanh\", \"sigmoid\"],\n",
        "                default=\"relu\",\n",
        "            ),\n",
        "        )\n",
        "    )\n",
        "    model.add(\n",
        "        Dropout(\n",
        "            rate=hp.Float(\n",
        "                \"dropout_3\", min_value=0.0, max_value=0.5, default=0.25, step=0.05\n",
        "            )\n",
        "        )\n",
        "    )\n",
        "    model.add(Dense(10, activation=\"softmax\"))\n",
        "        \n",
        "        \n",
        "  \n",
        "    model.compile(optimizer=keras.optimizers.Adam(\n",
        "        hp.Choice('learning_rate', [1e-2, 1e-3, 1e-4])),\n",
        "                  loss='sparse_categorical_crossentropy',\n",
        "                  metrics=['accuracy'])\n",
        "    return model"
      ],
      "execution_count": null,
      "outputs": []
    },
    {
      "cell_type": "markdown",
      "metadata": {
        "id": "PSJ_gIPOfZWW"
      },
      "source": [
        "### Random Search to find best hyperparameters"
      ]
    },
    {
      "cell_type": "code",
      "metadata": {
        "colab": {
          "base_uri": "https://localhost:8080/"
        },
        "id": "hD_rE7yBfZWX",
        "outputId": "39c85730-9155-4067-d91d-fc3bb7026171"
      },
      "source": [
        "from kerastuner import RandomSearch\n",
        "from kerastuner.engine.hyperparameters import HyperParameters\n",
        "tuner_search= RandomSearch(build_model,\n",
        "                           objective='val_accuracy',\n",
        "                           max_trials=5,\n",
        "                           directory='output',\n",
        "                           project_name='mnist_fashion'\n",
        "                          )"
      ],
      "execution_count": null,
      "outputs": [
        {
          "output_type": "stream",
          "text": [
            "INFO:tensorflow:Reloading Oracle from existing project output/mnist_fashion/oracle.json\n",
            "INFO:tensorflow:Reloading Tuner from output/mnist_fashion/tuner0.json\n"
          ],
          "name": "stdout"
        }
      ]
    },
    {
      "cell_type": "code",
      "metadata": {
        "colab": {
          "base_uri": "https://localhost:8080/"
        },
        "id": "9taMRs9nfZWY",
        "outputId": "c8d89b1a-cdac-4041-c12d-d71eafb8687c"
      },
      "source": [
        "tuner_search.search(train_images, train_labels, epochs=10, validation_split=0.1)"
      ],
      "execution_count": null,
      "outputs": [
        {
          "output_type": "stream",
          "text": [
            "INFO:tensorflow:Oracle triggered exit\n"
          ],
          "name": "stdout"
        }
      ]
    },
    {
      "cell_type": "markdown",
      "metadata": {
        "id": "SPpjr851fZWa"
      },
      "source": [
        "### Best Hyperparameters Determined"
      ]
    },
    {
      "cell_type": "code",
      "metadata": {
        "colab": {
          "base_uri": "https://localhost:8080/"
        },
        "id": "j-_E092wiG8a",
        "outputId": "bc4aa6c6-6e17-4318-d66c-9ac65cf06890"
      },
      "source": [
        "tuner_search.results_summary()"
      ],
      "execution_count": null,
      "outputs": [
        {
          "output_type": "stream",
          "text": [
            "Results summary\n",
            "Results in output/mnist_fashion\n",
            "Showing 10 best trials\n",
            "Objective(name='val_accuracy', direction='max')\n",
            "Trial summary\n",
            "Hyperparameters:\n",
            "dropout_1: 0.35000000000000003\n",
            "num_filters: 64\n",
            "dropout_2: 0.05\n",
            "units: 448\n",
            "dense_activation: sigmoid\n",
            "dropout_3: 0.2\n",
            "learning_rate: 0.001\n",
            "Score: 0.9171666502952576\n",
            "Trial summary\n",
            "Hyperparameters:\n",
            "dropout_1: 0.5\n",
            "num_filters: 32\n",
            "dropout_2: 0.1\n",
            "units: 416\n",
            "dense_activation: relu\n",
            "dropout_3: 0.2\n",
            "learning_rate: 0.001\n",
            "Score: 0.9153333306312561\n",
            "Trial summary\n",
            "Hyperparameters:\n",
            "dropout_1: 0.05\n",
            "num_filters: 64\n",
            "dropout_2: 0.15000000000000002\n",
            "units: 384\n",
            "dense_activation: relu\n",
            "dropout_3: 0.05\n",
            "learning_rate: 0.0001\n",
            "Score: 0.902999997138977\n",
            "Trial summary\n",
            "Hyperparameters:\n",
            "dropout_1: 0.35000000000000003\n",
            "num_filters: 32\n",
            "dropout_2: 0.35000000000000003\n",
            "units: 448\n",
            "dense_activation: sigmoid\n",
            "dropout_3: 0.30000000000000004\n",
            "learning_rate: 0.0001\n",
            "Score: 0.8648333549499512\n",
            "Trial summary\n",
            "Hyperparameters:\n",
            "dropout_1: 0.45\n",
            "num_filters: 32\n",
            "dropout_2: 0.1\n",
            "units: 320\n",
            "dense_activation: sigmoid\n",
            "dropout_3: 0.30000000000000004\n",
            "learning_rate: 0.01\n",
            "Score: 0.7720000147819519\n"
          ],
          "name": "stdout"
        }
      ]
    },
    {
      "cell_type": "code",
      "metadata": {
        "colab": {
          "base_uri": "https://localhost:8080/"
        },
        "id": "aD2S6CFsfZWb",
        "outputId": "a3024ffb-4469-4c12-a6f6-b35298374104"
      },
      "source": [
        "model= tuner_search.get_best_models(num_models=1)[0]\n",
        "model.summary()"
      ],
      "execution_count": null,
      "outputs": [
        {
          "output_type": "stream",
          "text": [
            "Model: \"sequential\"\n",
            "_________________________________________________________________\n",
            "Layer (type)                 Output Shape              Param #   \n",
            "=================================================================\n",
            "conv2d (Conv2D)              (None, 26, 26, 16)        160       \n",
            "_________________________________________________________________\n",
            "conv2d_1 (Conv2D)            (None, 24, 24, 16)        2320      \n",
            "_________________________________________________________________\n",
            "max_pooling2d (MaxPooling2D) (None, 12, 12, 16)        0         \n",
            "_________________________________________________________________\n",
            "dropout (Dropout)            (None, 12, 12, 16)        0         \n",
            "_________________________________________________________________\n",
            "conv2d_2 (Conv2D)            (None, 10, 10, 32)        4640      \n",
            "_________________________________________________________________\n",
            "conv2d_3 (Conv2D)            (None, 8, 8, 64)          18496     \n",
            "_________________________________________________________________\n",
            "max_pooling2d_1 (MaxPooling2 (None, 4, 4, 64)          0         \n",
            "_________________________________________________________________\n",
            "dropout_1 (Dropout)          (None, 4, 4, 64)          0         \n",
            "_________________________________________________________________\n",
            "flatten (Flatten)            (None, 1024)              0         \n",
            "_________________________________________________________________\n",
            "dense (Dense)                (None, 448)               459200    \n",
            "_________________________________________________________________\n",
            "dropout_2 (Dropout)          (None, 448)               0         \n",
            "_________________________________________________________________\n",
            "dense_1 (Dense)              (None, 10)                4490      \n",
            "=================================================================\n",
            "Total params: 489,306\n",
            "Trainable params: 489,306\n",
            "Non-trainable params: 0\n",
            "_________________________________________________________________\n"
          ],
          "name": "stdout"
        }
      ]
    },
    {
      "cell_type": "code",
      "metadata": {
        "id": "4ZsAD14HiLFh"
      },
      "source": [
        "history= model.fit(train_images, train_labels, epochs=10, validation_split=0.1, initial_epoch=3)"
      ],
      "execution_count": null,
      "outputs": []
    },
    {
      "cell_type": "markdown",
      "metadata": {
        "id": "RV0hgggJfZWc"
      },
      "source": [
        "### Make Predictions"
      ]
    },
    {
      "cell_type": "code",
      "metadata": {
        "id": "aWBWc0G-fZWd"
      },
      "source": [
        "predictions= model.predict(test_images)"
      ],
      "execution_count": null,
      "outputs": []
    },
    {
      "cell_type": "markdown",
      "metadata": {
        "id": "51xDn73ofZWe"
      },
      "source": [
        "### Visualize the prediction"
      ]
    },
    {
      "cell_type": "code",
      "metadata": {
        "colab": {
          "base_uri": "https://localhost:8080/",
          "height": 297
        },
        "id": "7_TifZXHfZWf",
        "outputId": "9280a298-3965-4e6f-9eab-172cefc06bbd"
      },
      "source": [
        "import matplotlib.pyplot as plt\n",
        "import numpy as np\n",
        "plt.imshow(test_images[0].reshape(28,28))\n",
        "print('Actual_label :', test_labels[0])\n",
        "print('Predicted_label :', np.argmax(predictions[0]))"
      ],
      "execution_count": null,
      "outputs": [
        {
          "output_type": "stream",
          "text": [
            "Actual_label : 9\n",
            "Predicted_label : 9\n"
          ],
          "name": "stdout"
        },
        {
          "output_type": "display_data",
          "data": {
            "image/png": "[encoded data removed]",
            "text/plain": [
              "<Figure size 432x288 with 1 Axes>"
            ]
          },
          "metadata": {
            "tags": [],
            "needs_background": "light"
          }
        }
      ]
    },
    {
      "cell_type": "code",
      "metadata": {
        "colab": {
          "base_uri": "https://localhost:8080/",
          "height": 297
        },
        "id": "9YjxuJjbfZWg",
        "outputId": "68764974-e7ab-4481-fd86-1a2c648b75a3"
      },
      "source": [
        "plt.imshow(test_images[0].reshape(28,28))\n",
        "print('Actual_label :', test_labels[10])\n",
        "print('Predicted_label :', np.argmax(predictions[10]))"
      ],
      "execution_count": null,
      "outputs": [
        {
          "output_type": "stream",
          "text": [
            "Actual_label : 4\n",
            "Predicted_label : 4\n"
          ],
          "name": "stdout"
        },
        {
          "output_type": "display_data",
          "data": {
            "image/png": "[encoded data removed]",
            "text/plain": [
              "<Figure size 432x288 with 1 Axes>"
            ]
          },
          "metadata": {
            "tags": [],
            "needs_background": "light"
          }
        }
      ]
    },
    {
      "cell_type": "code",
      "metadata": {
        "id": "zbWjXE8QfZWh"
      },
      "source": [
        "import matplotlib.pyplot as plt"
      ],
      "execution_count": null,
      "outputs": []
    },
    {
      "cell_type": "code",
      "metadata": {
        "id": "ZAFtC3XphxgY"
      },
      "source": [
        "# list all data in history\n",
        "print(history.history.keys())"
      ],
      "execution_count": null,
      "outputs": []
    },
    {
      "cell_type": "code",
      "metadata": {
        "id": "BH1AaMjMfZWi"
      },
      "source": [
        "# summarize history for accuracy\n",
        "plt.plot(history.history['accuracy'])\n",
        "plt.plot(history.history['val_accuracy'])\n",
        "plt.title('model accuracy')\n",
        "plt.ylabel('accuracy')\n",
        "plt.xlabel('epoch')\n",
        "plt.legend(['train', 'test'], loc='upper left')\n",
        "plt.show()"
      ],
      "execution_count": null,
      "outputs": []
    },
    {
      "cell_type": "code",
      "metadata": {
        "id": "ONa7T_ZlfZWj"
      },
      "source": [
        "# summarize history for loss\n",
        "plt.plot(history.history['loss'])\n",
        "plt.plot(history.history['val_loss'])\n",
        "plt.title('model loss')\n",
        "plt.ylabel('loss')\n",
        "plt.xlabel('epoch')\n",
        "plt.legend(['train', 'test'], loc='upper left')\n",
        "plt.show()"
      ],
      "execution_count": null,
      "outputs": []
    }
  ]
}